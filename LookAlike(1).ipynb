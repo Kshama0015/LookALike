{
 "cells": [
  {
   "cell_type": "code",
   "execution_count": 1,
   "id": "8c62716d-a891-42f3-a177-c1a01f60c9a7",
   "metadata": {},
   "outputs": [],
   "source": [
    "import pandas as pd"
   ]
  },
  {
   "cell_type": "code",
   "execution_count": 3,
   "id": "890eec79-6cfd-429e-863a-7169e6938401",
   "metadata": {},
   "outputs": [],
   "source": [
    "#loading dataset\n",
    "customers = pd.read_csv(\"Customers.csv\")\n",
    "products = pd.read_csv(\"Products.csv\")\n",
    "transactions = pd.read_csv(\"Transactions.csv\")"
   ]
  },
  {
   "cell_type": "code",
   "execution_count": 5,
   "id": "29e38661-6169-472d-86ec-dc2e056013cb",
   "metadata": {},
   "outputs": [
    {
     "name": "stdout",
     "output_type": "stream",
     "text": [
      "Customers Data:\n",
      "   CustomerID        CustomerName         Region  SignupDate\n",
      "0      C0001    Lawrence Carroll  South America  2022-07-10\n",
      "1      C0002      Elizabeth Lutz           Asia  2022-02-13\n",
      "2      C0003      Michael Rivera  South America  2024-03-07\n",
      "3      C0004  Kathleen Rodriguez  South America  2022-10-09\n",
      "4      C0005         Laura Weber           Asia  2022-08-15 \n",
      "\n",
      "Products Data:\n",
      "   ProductID              ProductName     Category   Price\n",
      "0      P001     ActiveWear Biography        Books  169.30\n",
      "1      P002    ActiveWear Smartwatch  Electronics  346.30\n",
      "2      P003  ComfortLiving Biography        Books   44.12\n",
      "3      P004            BookWorld Rug   Home Decor   95.69\n",
      "4      P005          TechPro T-Shirt     Clothing  429.31 \n",
      "\n",
      "Transactions Data:\n",
      "   TransactionID CustomerID ProductID      TransactionDate  Quantity  \\\n",
      "0        T00001      C0199      P067  2024-08-25 12:38:23         1   \n",
      "1        T00112      C0146      P067  2024-05-27 22:23:54         1   \n",
      "2        T00166      C0127      P067   2024-04-25 7:38:55         1   \n",
      "3        T00272      C0087      P067  2024-03-26 22:55:37         2   \n",
      "4        T00363      C0070      P067  2024-03-21 15:10:10         3   \n",
      "\n",
      "   TotalValue   Price  \n",
      "0      300.68  300.68  \n",
      "1      300.68  300.68  \n",
      "2      300.68  300.68  \n",
      "3      601.36  300.68  \n",
      "4      902.04  300.68  \n"
     ]
    }
   ],
   "source": [
    "#displaying dataset\n",
    "print(\"Customers Data:\\n\", customers.head(), \"\\n\")\n",
    "print(\"Products Data:\\n\", products.head(), \"\\n\")\n",
    "print(\"Transactions Data:\\n\", transactions.head())"
   ]
  },
  {
   "cell_type": "code",
   "execution_count": 9,
   "id": "92bcf08e-449f-4806-9a52-8a0cb96a6a7e",
   "metadata": {},
   "outputs": [
    {
     "name": "stdout",
     "output_type": "stream",
     "text": [
      "Missing Values:\n",
      "\n",
      "Customers:\n",
      " CustomerID      0\n",
      "CustomerName    0\n",
      "Region          0\n",
      "SignupDate      0\n",
      "dtype: int64 \n",
      "\n",
      "Products:\n",
      " ProductID      0\n",
      "ProductName    0\n",
      "Category       0\n",
      "Price          0\n",
      "dtype: int64 \n",
      "\n",
      "Transactions:\n",
      " TransactionID      0\n",
      "CustomerID         0\n",
      "ProductID          0\n",
      "TransactionDate    0\n",
      "Quantity           0\n",
      "TotalValue         0\n",
      "Price              0\n",
      "dtype: int64 \n",
      "\n"
     ]
    }
   ],
   "source": [
    "#checking missing values \n",
    "print(\"Missing Values:\\n\")\n",
    "print(\"Customers:\\n\", customers.isnull().sum(), \"\\n\")\n",
    "print(\"Products:\\n\", products.isnull().sum(), \"\\n\")\n",
    "print(\"Transactions:\\n\", transactions.isnull().sum(), \"\\n\")"
   ]
  },
  {
   "cell_type": "code",
   "execution_count": 11,
   "id": "6efa01c5-acfe-4c93-abbf-6504f1daf3e0",
   "metadata": {},
   "outputs": [
    {
     "name": "stdout",
     "output_type": "stream",
     "text": [
      "  TransactionID CustomerID ProductID      TransactionDate  Quantity  \\\n",
      "0        T00001      C0199      P067  2024-08-25 12:38:23         1   \n",
      "1        T00112      C0146      P067  2024-05-27 22:23:54         1   \n",
      "2        T00166      C0127      P067   2024-04-25 7:38:55         1   \n",
      "3        T00272      C0087      P067  2024-03-26 22:55:37         2   \n",
      "4        T00363      C0070      P067  2024-03-21 15:10:10         3   \n",
      "\n",
      "   TotalValue  Price_x     CustomerName         Region  SignupDate  \\\n",
      "0      300.68   300.68   Andrea Jenkins         Europe  2022-12-03   \n",
      "1      300.68   300.68  Brittany Harvey           Asia  2024-09-04   \n",
      "2      300.68   300.68  Kathryn Stevens         Europe  2024-04-04   \n",
      "3      601.36   300.68  Travis Campbell  South America  2024-04-11   \n",
      "4      902.04   300.68    Timothy Perez         Europe  2022-03-15   \n",
      "\n",
      "                       ProductName     Category  Price_y  \n",
      "0  ComfortLiving Bluetooth Speaker  Electronics   300.68  \n",
      "1  ComfortLiving Bluetooth Speaker  Electronics   300.68  \n",
      "2  ComfortLiving Bluetooth Speaker  Electronics   300.68  \n",
      "3  ComfortLiving Bluetooth Speaker  Electronics   300.68  \n",
      "4  ComfortLiving Bluetooth Speaker  Electronics   300.68  \n"
     ]
    }
   ],
   "source": [
    "#merge data here \n",
    "merged_df = transactions.merge(customers, on=\"CustomerID\", how=\"left\")\n",
    "merged_df = merged_df.merge(products, on=\"ProductID\", how=\"left\")\n",
    "print(merged_df.head())"
   ]
  },
  {
   "cell_type": "code",
   "execution_count": 13,
   "id": "78c9041d-4b83-43d8-beca-980e99cf9da2",
   "metadata": {},
   "outputs": [],
   "source": [
    "#feature engineering \n",
    "#total amount spent\n",
    "customer_spending = merged_df.groupby(\"CustomerID\")[\"TotalValue\"].sum().reset_index()\n",
    "customer_spending.columns = [\"CustomerID\", \"TotalSpent\"]"
   ]
  },
  {
   "cell_type": "code",
   "execution_count": 15,
   "id": "f9a03144-17b9-4b3d-a99d-7a238ef1e4b3",
   "metadata": {},
   "outputs": [],
   "source": [
    "#total transactions made\n",
    "transaction_count = merged_df.groupby(\"CustomerID\")[\"TransactionID\"].count().reset_index()\n",
    "transaction_count.columns = [\"CustomerID\", \"TransactionCount\"]"
   ]
  },
  {
   "cell_type": "code",
   "execution_count": 17,
   "id": "afad4628-129c-47b0-bada-cb0f660a9af8",
   "metadata": {},
   "outputs": [],
   "source": [
    "#unique products purchased\n",
    "unique_products = merged_df.groupby(\"CustomerID\")[\"ProductID\"].nunique().reset_index()\n",
    "unique_products.columns = [\"CustomerID\", \"UniqueProductsBought\"]"
   ]
  },
  {
   "cell_type": "code",
   "execution_count": 19,
   "id": "916dfb97-30e4-4252-9bdd-b9ede1f93bfc",
   "metadata": {},
   "outputs": [],
   "source": [
    "#unique categories purchased\n",
    "unique_categories = merged_df.groupby(\"CustomerID\")[\"Category\"].nunique().reset_index()\n",
    "unique_categories.columns = [\"CustomerID\", \"UniqueCategoriesBought\"]"
   ]
  },
  {
   "cell_type": "code",
   "execution_count": 21,
   "id": "80165e47-abdc-4aa9-8772-20acaaf2bd3d",
   "metadata": {},
   "outputs": [],
   "source": [
    "from sklearn.preprocessing import LabelEncoder\n",
    "\n",
    "encoder = LabelEncoder()\n",
    "customers[\"RegionEncoded\"] = encoder.fit_transform(customers[\"Region\"])"
   ]
  },
  {
   "cell_type": "code",
   "execution_count": 23,
   "id": "2d1f7193-ac0c-4930-a6ae-db743bb62698",
   "metadata": {},
   "outputs": [
    {
     "name": "stdout",
     "output_type": "stream",
     "text": [
      "  CustomerID  RegionEncoded  TotalSpent  TransactionCount  \\\n",
      "0      C0001              3     3354.52               5.0   \n",
      "1      C0002              0     1862.74               4.0   \n",
      "2      C0003              3     2725.38               4.0   \n",
      "3      C0004              3     5354.88               8.0   \n",
      "4      C0005              0     2034.24               3.0   \n",
      "\n",
      "   UniqueProductsBought  UniqueCategoriesBought  \n",
      "0                   5.0                     3.0  \n",
      "1                   4.0                     2.0  \n",
      "2                   4.0                     3.0  \n",
      "3                   8.0                     3.0  \n",
      "4                   3.0                     2.0  \n"
     ]
    }
   ],
   "source": [
    "#merge all features\n",
    "customer_features = customers[[\"CustomerID\", \"RegionEncoded\"]]\n",
    "customer_features = customer_features.merge(customer_spending, on=\"CustomerID\", how=\"left\")\n",
    "customer_features = customer_features.merge(transaction_count, on=\"CustomerID\", how=\"left\")\n",
    "customer_features = customer_features.merge(unique_products, on=\"CustomerID\", how=\"left\")\n",
    "customer_features = customer_features.merge(unique_categories, on=\"CustomerID\", how=\"left\")\n",
    "\n",
    "# Fill missing values with 0\n",
    "customer_features = customer_features.fillna(0)\n",
    "\n",
    "print(customer_features.head())"
   ]
  },
  {
   "cell_type": "code",
   "execution_count": 25,
   "id": "f2298e78-dd8b-40b4-b01e-edcb9809163a",
   "metadata": {},
   "outputs": [
    {
     "name": "stdout",
     "output_type": "stream",
     "text": [
      "CustomerID     C0001     C0002     C0003     C0004     C0005     C0006  \\\n",
      "CustomerID                                                               \n",
      "C0001       1.000000  0.999999  1.000000  1.000000  1.000000  1.000000   \n",
      "C0002       0.999999  1.000000  0.999999  0.999999  1.000000  0.999998   \n",
      "C0003       1.000000  0.999999  1.000000  1.000000  0.999999  1.000000   \n",
      "C0004       1.000000  0.999999  1.000000  1.000000  1.000000  1.000000   \n",
      "C0005       1.000000  1.000000  0.999999  1.000000  1.000000  0.999999   \n",
      "\n",
      "CustomerID     C0007     C0008     C0009     C0010  ...     C0191     C0192  \\\n",
      "CustomerID                                          ...                       \n",
      "C0001       0.999999  0.999999  0.999996  0.999999  ...  1.000000  1.000000   \n",
      "C0002       0.999999  1.000000  0.999997  1.000000  ...  0.999999  0.999999   \n",
      "C0003       0.999999  0.999999  0.999996  0.999999  ...  1.000000  1.000000   \n",
      "C0004       1.000000  0.999999  0.999995  0.999999  ...  1.000000  0.999999   \n",
      "C0005       1.000000  0.999999  0.999995  0.999999  ...  0.999999  0.999999   \n",
      "\n",
      "CustomerID     C0193  C0194     C0195     C0196  C0197     C0198  C0199  \\\n",
      "CustomerID                                                                \n",
      "C0001       0.999999    1.0  1.000000  0.999999    1.0  0.999999    1.0   \n",
      "C0002       0.999999    1.0  0.999999  0.999998    1.0  0.999999    1.0   \n",
      "C0003       0.999999    1.0  1.000000  0.999999    1.0  0.999999    1.0   \n",
      "C0004       1.000000    1.0  1.000000  0.999999    1.0  0.999998    1.0   \n",
      "C0005       1.000000    1.0  1.000000  0.999999    1.0  0.999998    1.0   \n",
      "\n",
      "CustomerID     C0200  \n",
      "CustomerID            \n",
      "C0001       0.999999  \n",
      "C0002       0.999999  \n",
      "C0003       0.999999  \n",
      "C0004       1.000000  \n",
      "C0005       1.000000  \n",
      "\n",
      "[5 rows x 200 columns]\n"
     ]
    }
   ],
   "source": [
    "#calculating similarities using cosine similarity\n",
    "from sklearn.metrics.pairwise import cosine_similarity\n",
    "\n",
    "feature_matrix = customer_features.drop(\"CustomerID\", axis=1)\n",
    "similarity_matrix = cosine_similarity(feature_matrix)\n",
    "similarity_df = pd.DataFrame(similarity_matrix, index=customer_features[\"CustomerID\"], columns=customer_features[\"CustomerID\"])\n",
    "\n",
    "print(similarity_df.head())  \n"
   ]
  },
  {
   "cell_type": "code",
   "execution_count": 31,
   "id": "41304694-4904-4825-8eef-e8d7273172b6",
   "metadata": {},
   "outputs": [
    {
     "name": "stdout",
     "output_type": "stream",
     "text": [
      "LookalikeCustomers file created successfully!\n"
     ]
    }
   ],
   "source": [
    "#Finding top 3 similar customers\n",
    "\n",
    "def get_top_3_lookalikes(customer_id):\n",
    "    scores = similarity_df[customer_id].drop(customer_id)  \n",
    "    top_3 = scores.nlargest(3)  \n",
    "    return list(zip(top_3.index, top_3.values)) \n",
    "\n",
    "lookalike_results = {}\n",
    "\n",
    "for customer in customer_features[\"CustomerID\"][:20]: \n",
    "    lookalike_results[customer] = get_top_3_lookalikes(customer)\n",
    "\n",
    "lookalike_df = pd.DataFrame([\n",
    "    [cust] + [sim[0] for sim in lookalike_results[cust]] + [sim[1] for sim in lookalike_results[cust]]\n",
    "    for cust in lookalike_results\n",
    "], columns=[\"CustomerID\", \"Similar1\", \"Similar2\", \"Similar3\", \"Score1\", \"Score2\", \"Score3\"])\n",
    "\n",
    "\n",
    "lookalike_df.to_csv(\"LookalikeCustomers.csv\", index=False)\n",
    "\n",
    "print(\"LookalikeCustomers file created successfully!\")\n"
   ]
  },
  {
   "cell_type": "code",
   "execution_count": null,
   "id": "118b5c02-b967-488f-8f0f-7541e821484f",
   "metadata": {},
   "outputs": [],
   "source": []
  }
 ],
 "metadata": {
  "kernelspec": {
   "display_name": "Python 3 (ipykernel)",
   "language": "python",
   "name": "python3"
  },
  "language_info": {
   "codemirror_mode": {
    "name": "ipython",
    "version": 3
   },
   "file_extension": ".py",
   "mimetype": "text/x-python",
   "name": "python",
   "nbconvert_exporter": "python",
   "pygments_lexer": "ipython3",
   "version": "3.12.4"
  }
 },
 "nbformat": 4,
 "nbformat_minor": 5
}
